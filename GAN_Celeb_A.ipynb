{
  "nbformat": 4,
  "nbformat_minor": 0,
  "metadata": {
    "colab": {
      "name": "GAN Celeb-A.ipynb",
      "provenance": [],
      "collapsed_sections": [],
      "machine_shape": "hm",
      "authorship_tag": "ABX9TyOjDmaNA5FE6ooCtQBe+O8U",
      "include_colab_link": true
    },
    "kernelspec": {
      "name": "python3",
      "display_name": "Python 3"
    },
    "language_info": {
      "name": "python"
    },
    "accelerator": "GPU"
  },
  "cells": [
    {
      "cell_type": "markdown",
      "metadata": {
        "id": "view-in-github",
        "colab_type": "text"
      },
      "source": [
        "<a href=\"https://colab.research.google.com/github/halen48/DCGAN/blob/main/GAN_Celeb_A.ipynb\" target=\"_parent\"><img src=\"https://colab.research.google.com/assets/colab-badge.svg\" alt=\"Open In Colab\"/></a>"
      ]
    },
    {
      "cell_type": "markdown",
      "metadata": {
        "id": "AdzWl3iK22t0"
      },
      "source": [
        "<h1><a href=\"https://pytorch.org/tutorials/beginner/dcgan_faces_tutorial.html\">Deep Convolutional Generative Adversarial Networks</a></h1>\n",
        "<h2>Autor do código: <a href=\"https://twitter.com/fchollet\">François Chollet</a>\n",
        "\n",
        "<h2>Adaptação e transposição para o Notebook: <a href=\"https://github.com/halen48/\">Guilherme Novaes</a></h2>"
      ]
    },
    {
      "cell_type": "markdown",
      "metadata": {
        "id": "YjngVJq33M0C"
      },
      "source": [
        "#Dependências"
      ]
    },
    {
      "cell_type": "code",
      "metadata": {
        "id": "xsifuAx82lLB"
      },
      "source": [
        "import tensorflow as tf\n",
        "from tensorflow import keras\n",
        "from tensorflow.keras import layers\n",
        "import numpy as np\n",
        "import matplotlib.pyplot as plt\n",
        "import os\n",
        "import gdown\n",
        "from zipfile import ZipFile\n"
      ],
      "execution_count": 1,
      "outputs": []
    },
    {
      "cell_type": "markdown",
      "metadata": {
        "id": "MZ2U3ZUa3Qd9"
      },
      "source": [
        "#Constantes e Parâmetros"
      ]
    },
    {
      "cell_type": "code",
      "metadata": {
        "id": "krIQAfd12yVM",
        "colab": {
          "base_uri": "https://localhost:8080/"
        },
        "cellView": "form",
        "outputId": "58e4f293-24d8-49d4-b130-477f57eda390"
      },
      "source": [
        "batch_size =  256#@param {type:\"integer\"}\n",
        "image_size = 64 #@param {type:\"integer\"}\n",
        "latent_dim = 128 #@param {type:\"integer\"}\n",
        "image_channels = 3 #@param {type:\"integer\"}\n",
        "lr = 0.0001 #@param {type:\"number\"}\n",
        "epochs = 200 #@param {type:\"number\"}\n",
        "num_imgs_save =  9#@param {type:\"number\"}\n",
        "\n",
        "work_path = '/drive/MyDrive/GAN/' #@param{type:\"string\"}\n",
        "\n",
        "import os\n",
        "from google.colab import drive\n",
        "import re\n",
        "\n",
        "drive.mount('/content/drive')\n",
        "\n",
        "dir = os.getcwd()+work_path\n",
        "\n",
        "import sys\n",
        "sys.path.insert(0, dir)\n",
        "\n",
        "work_path = '.' + work_path\n",
        "try:\n",
        "  os.makedirs(work_path)\n",
        "except FileExistsError:\n",
        "  print(\"Diretório [%s] já criado...\"%work_path)\n",
        "for i in range(num_imgs_save):\n",
        "  try:\n",
        "    os.makedirs(work_path+\"/%d\"%i)\n",
        "  except FileExistsError:\n",
        "    print(\"Diretório [%d] já criado...\"%i)"
      ],
      "execution_count": 2,
      "outputs": [
        {
          "output_type": "stream",
          "name": "stdout",
          "text": [
            "Mounted at /content/drive\n",
            "Diretório [./drive/MyDrive/GAN/] já criado...\n",
            "Diretório [0] já criado...\n",
            "Diretório [1] já criado...\n",
            "Diretório [2] já criado...\n",
            "Diretório [3] já criado...\n",
            "Diretório [4] já criado...\n",
            "Diretório [5] já criado...\n",
            "Diretório [6] já criado...\n",
            "Diretório [7] já criado...\n",
            "Diretório [8] já criado...\n"
          ]
        }
      ]
    },
    {
      "cell_type": "markdown",
      "metadata": {
        "id": "s4GtEIPK38-K"
      },
      "source": [
        "#Carregar o dataset <a href=\"http://mmlab.ie.cuhk.edu.hk/projects/CelebA.html\">Celeb-A Faces dataset</a>"
      ]
    },
    {
      "cell_type": "code",
      "metadata": {
        "id": "JZxTkvf-20Ur"
      },
      "source": [
        "try:\n",
        "  os.makedirs(\"celeba_gan\")\n",
        "\n",
        "  url = \"https://drive.google.com/uc?id=1O7m1010EJjLE5QxLZiM9Fpjs7Oj6e684\"\n",
        "  output = \"celeba_gan/data.zip\"\n",
        "  gdown.download(url, output, quiet=True)\n",
        "  with ZipFile(\"celeba_gan/data.zip\", \"r\") as zipobj:\n",
        "    zipobj.extractall(\"celeba_gan\")\n",
        "except FileExistsError:\n",
        "  print(\"Dataset já foi baixado!\")\n",
        "\n",
        "dataset = keras.preprocessing.image_dataset_from_directory(\n",
        "    \"celeba_gan\", label_mode=None, image_size=(image_size, image_size), batch_size=batch_size\n",
        ")"
      ],
      "execution_count": null,
      "outputs": []
    },
    {
      "cell_type": "code",
      "metadata": {
        "id": "MJhycUMa630y"
      },
      "source": [
        "from matplotlib.pyplot import figure\n",
        "figure(figsize=(15, 15))\n",
        "\n",
        "i = 0\n",
        "plot_dim = 7\n",
        "for x in dataset:\n",
        "  # define subplot\n",
        "  plt.subplot(plot_dim, plot_dim, 1 + i)\n",
        "  # turn off axis\n",
        "  plt.axis('off')\n",
        "  # plot raw pixel data\n",
        "  plt.imshow((x.numpy()).astype(\"int32\")[0])\n",
        "  i+=1\n",
        "  if(i == plot_dim*plot_dim):\n",
        "    break\n",
        "plt.show()"
      ],
      "execution_count": null,
      "outputs": []
    },
    {
      "cell_type": "markdown",
      "metadata": {
        "id": "fWQ7e4gt6sIU"
      },
      "source": [
        "##Normaliza os valores das imagens"
      ]
    },
    {
      "cell_type": "code",
      "metadata": {
        "id": "5LM3a-fW56Hw"
      },
      "source": [
        "dataset = dataset.map(lambda x: x / 255.0)"
      ],
      "execution_count": null,
      "outputs": []
    },
    {
      "cell_type": "markdown",
      "metadata": {
        "id": "e3RR3BE-4Hwz"
      },
      "source": [
        "#Definições dos modelos"
      ]
    },
    {
      "cell_type": "markdown",
      "metadata": {
        "id": "rNWLLJBN419x"
      },
      "source": [
        "##Discriminador"
      ]
    },
    {
      "cell_type": "code",
      "metadata": {
        "id": "b1nd5xx341BS"
      },
      "source": [
        "try:\n",
        "  discriminator = keras.models.load_model(work_path+'discriminator')\n",
        "except OSError:\n",
        "  print(\"Criando novo discriminator\")\n",
        "  discriminator = keras.Sequential(\n",
        "    [\n",
        "        keras.Input(shape=(image_size, image_size, image_channels)),\n",
        "        layers.Conv2D(64, kernel_size=4, strides=2, padding=\"same\"),\n",
        "        layers.LeakyReLU(alpha=0.2),\n",
        "        layers.Conv2D(128, kernel_size=4, strides=2, padding=\"same\"),\n",
        "        layers.LeakyReLU(alpha=0.2),\n",
        "        layers.Conv2D(128, kernel_size=4, strides=2, padding=\"same\"),\n",
        "        layers.LeakyReLU(alpha=0.2),\n",
        "        layers.Flatten(),\n",
        "        layers.Dropout(0.2),\n",
        "        layers.Dense(1, activation=\"sigmoid\"),\n",
        "    ],\n",
        "    name=\"discriminator\",\n",
        ")\n",
        "discriminator.summary()\n"
      ],
      "execution_count": null,
      "outputs": []
    },
    {
      "cell_type": "markdown",
      "metadata": {
        "id": "ytkayI6G46Kr"
      },
      "source": [
        "##Gerador"
      ]
    },
    {
      "cell_type": "code",
      "metadata": {
        "id": "bQ9nuK044HjK"
      },
      "source": [
        "try:\n",
        "  generator = keras.models.load_model(work_path+'generator')\n",
        "except OSError:\n",
        "  print(\"Criando novo generator\")\n",
        "  generator = keras.Sequential(\n",
        "      [\n",
        "          keras.Input(shape=(latent_dim,)),\n",
        "          layers.Dense(8 * 8 * 128),\n",
        "          layers.Reshape((8, 8, 128)),\n",
        "          layers.Conv2DTranspose(128, kernel_size=4, strides=2, padding=\"same\"),\n",
        "          layers.LeakyReLU(alpha=0.2),\n",
        "          layers.Conv2DTranspose(256, kernel_size=4, strides=2, padding=\"same\"),\n",
        "          layers.LeakyReLU(alpha=0.2),\n",
        "          layers.Conv2DTranspose(512, kernel_size=4, strides=2, padding=\"same\"),\n",
        "          layers.LeakyReLU(alpha=0.2),\n",
        "          layers.Conv2D(3, kernel_size=5, padding=\"same\", activation=\"sigmoid\"),\n",
        "      ],\n",
        "      name=\"generator\",\n",
        "  )\n",
        "generator.summary()\n"
      ],
      "execution_count": null,
      "outputs": []
    },
    {
      "cell_type": "markdown",
      "metadata": {
        "id": "UjPOdtTuA4NH"
      },
      "source": [
        "##Rotina para salvar as imagens geradas durante as iterações"
      ]
    },
    {
      "cell_type": "code",
      "metadata": {
        "id": "GxVmYzHdX6cO"
      },
      "source": [
        "tf.config.run_functions_eagerly(True)\n",
        "\n",
        "def save_imgs(epoch, num_img, latent_dim, generator, discriminator):\n",
        "  generator.save(work_path+\"generator\")\n",
        "  discriminator.save(work_path+\"discriminator\")\n",
        "  random_latent_vectors = tf.random.normal(shape=(num_img, latent_dim))\n",
        "  generated_images = generator(random_latent_vectors)\n",
        "  generated_images *= 255\n",
        "  generated_images.numpy()\n",
        "  for id in range(num_img):\n",
        "      img = keras.preprocessing.image.array_to_img(generated_images[id])\n",
        "      img.save(work_path+\"%d/generated_img_%03d.png\" % (id,epoch))"
      ],
      "execution_count": null,
      "outputs": []
    },
    {
      "cell_type": "code",
      "metadata": {
        "id": "pgx50VsWA4h2"
      },
      "source": [
        "class GANMonitor(keras.callbacks.Callback):\n",
        "    def __init__(self, num_img=num_imgs_save, latent_dim=latent_dim):\n",
        "        self.num_img = num_imgs_save\n",
        "        self.latent_dim = latent_dim\n",
        "\n",
        "    def on_epoch_end(self, epoch, logs=None):\n",
        "        save_imgs(epoch,self.num_img, self.latent_dim, self.model.generator, self.model.discriminator)        "
      ],
      "execution_count": null,
      "outputs": []
    },
    {
      "cell_type": "markdown",
      "metadata": {
        "id": "JjISQLZJ4MJq"
      },
      "source": [
        "##Rotina de treinamento da DCGAN"
      ]
    },
    {
      "cell_type": "code",
      "metadata": {
        "id": "LPMHFzPo4Moz"
      },
      "source": [
        "class GAN(keras.Model):\n",
        "    def __init__(self, discriminator, generator, latent_dim):\n",
        "        super(GAN, self).__init__()\n",
        "        self.discriminator = discriminator\n",
        "        self.generator = generator\n",
        "        self.latent_dim = latent_dim\n",
        "\n",
        "    def compile(self, d_optimizer, g_optimizer, loss_fn):\n",
        "        super(GAN, self).compile()\n",
        "        self.d_optimizer = d_optimizer\n",
        "        self.g_optimizer = g_optimizer\n",
        "        self.loss_fn = loss_fn\n",
        "        self.d_loss_metric = keras.metrics.Mean(name=\"d_loss\")\n",
        "        self.g_loss_metric = keras.metrics.Mean(name=\"g_loss\")\n",
        "\n",
        "    @property\n",
        "    def metrics(self):\n",
        "        return [self.d_loss_metric, self.g_loss_metric]\n",
        "\n",
        "    def train_step(self, real_images):\n",
        "        # Sample random points in the latent space\n",
        "        batch_size = tf.shape(real_images)[0]\n",
        "        random_latent_vectors = tf.random.normal(shape=(batch_size, self.latent_dim))\n",
        "\n",
        "        # Decode them to fake images\n",
        "        generated_images = self.generator(random_latent_vectors)\n",
        "\n",
        "        # Combine them with real images\n",
        "        combined_images = tf.concat([generated_images, real_images], axis=0)\n",
        "\n",
        "        # Assemble labels discriminating real from fake images\n",
        "        labels = tf.concat(\n",
        "            [tf.ones((batch_size, 1)), tf.zeros((batch_size, 1))], axis=0\n",
        "        )\n",
        "        # Add random noise to the labels - important trick!\n",
        "        labels += 0.05 * tf.random.uniform(tf.shape(labels))\n",
        "\n",
        "        # Train the discriminator\n",
        "        with tf.GradientTape() as tape:\n",
        "            predictions = self.discriminator(combined_images)\n",
        "            d_loss = self.loss_fn(labels, predictions)\n",
        "        grads = tape.gradient(d_loss, self.discriminator.trainable_weights)\n",
        "        self.d_optimizer.apply_gradients(\n",
        "            zip(grads, self.discriminator.trainable_weights)\n",
        "        )\n",
        "\n",
        "        # Sample random points in the latent space\n",
        "        random_latent_vectors = tf.random.normal(shape=(batch_size, self.latent_dim))\n",
        "\n",
        "        # Assemble labels that say \"all real images\"\n",
        "        misleading_labels = tf.zeros((batch_size, 1))\n",
        "\n",
        "        # Train the generator (note that we should *not* update the weights\n",
        "        # of the discriminator)!\n",
        "        with tf.GradientTape() as tape:\n",
        "            predictions = self.discriminator(self.generator(random_latent_vectors))\n",
        "            g_loss = self.loss_fn(misleading_labels, predictions)\n",
        "        grads = tape.gradient(g_loss, self.generator.trainable_weights)\n",
        "        self.g_optimizer.apply_gradients(zip(grads, self.generator.trainable_weights))\n",
        "\n",
        "        # Update metrics\n",
        "        self.d_loss_metric.update_state(d_loss)\n",
        "        self.g_loss_metric.update_state(g_loss)\n",
        "\n",
        "\n",
        "        return {\n",
        "            \"d_loss\": self.d_loss_metric.result(),\n",
        "            \"g_loss\": self.g_loss_metric.result(),\n",
        "        }\n"
      ],
      "execution_count": null,
      "outputs": []
    },
    {
      "cell_type": "markdown",
      "metadata": {
        "id": "yzn0mgbG4YUa"
      },
      "source": [
        "#Treinamento"
      ]
    },
    {
      "cell_type": "markdown",
      "metadata": {
        "id": "l3AQeXgv5Hzi"
      },
      "source": [
        "##Rotina de treinamento"
      ]
    },
    {
      "cell_type": "code",
      "metadata": {
        "id": "jNdq__SH4bKK"
      },
      "source": [
        "gan = GAN(discriminator=discriminator, generator=generator, latent_dim=latent_dim)\n",
        "gan.compile(\n",
        "    d_optimizer=keras.optimizers.Adam(learning_rate=lr),\n",
        "    g_optimizer=keras.optimizers.Adam(learning_rate=lr),\n",
        "    loss_fn=keras.losses.BinaryCrossentropy(),\n",
        ")\n",
        "\n",
        "history = gan.fit(\n",
        "    dataset, epochs=epochs, callbacks=[GANMonitor(num_img=num_imgs_save, latent_dim=latent_dim)]\n",
        ")\n"
      ],
      "execution_count": null,
      "outputs": []
    },
    {
      "cell_type": "markdown",
      "metadata": {
        "id": "eZsOgdTcEBcM"
      },
      "source": [
        "##Histórico do treinamento da GAN"
      ]
    },
    {
      "cell_type": "code",
      "metadata": {
        "id": "bfFPz5eGEB54"
      },
      "source": [
        "plt.plot(history.history['g_loss'])\n",
        "plt.plot(history.history['d_loss'])\n",
        "plt.title('model loss')\n",
        "plt.ylabel('loss')\n",
        "plt.xlabel('epoch')\n",
        "plt.legend(['Generator', 'Discriminator'], loc='upper left')\n",
        "plt.show()"
      ],
      "execution_count": null,
      "outputs": []
    },
    {
      "cell_type": "markdown",
      "metadata": {
        "id": "cQHaNDU05UwS"
      },
      "source": [
        "#Resultados"
      ]
    },
    {
      "cell_type": "markdown",
      "metadata": {
        "id": "kX5x7eR84mA0"
      },
      "source": [
        "##Exemplo de nova imagem"
      ]
    },
    {
      "cell_type": "code",
      "metadata": {
        "id": "2wRfezVh4nz6"
      },
      "source": [
        "from PIL import Image\n",
        "for id in range(num_imgs_save):\n",
        "  frames = [Image.open(work_path+\"%d/generated_img_%03d.png\"%(id,epoch)) for epoch in range(epochs)]\n",
        "  frames[0].save(work_path+\"pessoa_%d.gif\"%id,save_all = True, append_images=frames[1:], duration=1/len(frames), loop=0)\n",
        "    "
      ],
      "execution_count": null,
      "outputs": []
    }
  ]
}